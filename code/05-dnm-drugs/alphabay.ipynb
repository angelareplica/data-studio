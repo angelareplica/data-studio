{
 "cells": [
  {
   "cell_type": "code",
   "execution_count": 2,
   "metadata": {},
   "outputs": [],
   "source": [
    "import pandas as pd\n",
    "import re\n",
    "import matplotlib.pyplot as plt\n",
    "from cycler import cycler\n",
    "from pywaffle import Waffle\n",
    "import numpy as np\n",
    "%matplotlib inline "
   ]
  },
  {
   "cell_type": "code",
   "execution_count": 3,
   "metadata": {},
   "outputs": [],
   "source": [
    "# show me EVERYTHING!\n",
    "pd.set_option('display.max_columns', None)\n",
    "pd.set_option('display.max_colwidth', -1)\n",
    "pd.set_option('display.max_rows', 1000)"
   ]
  },
  {
   "cell_type": "code",
   "execution_count": 4,
   "metadata": {},
   "outputs": [],
   "source": [
    "plt.rcdefaults()\n",
    "plt.rcParams.update({\n",
    "    'pdf.fonttype': 42,\n",
    "    'ps.fonttype': 42,\n",
    "    'font.family': 'sans-serif',\n",
    "    'font.sans-serif' : 'Tahoma',\n",
    "    'axes.facecolor' : '#ffffff',\n",
    "    'axes.axisbelow':True, \n",
    "    'axes.grid' : True,\n",
    "    'grid.color' : '#bec0c2',\n",
    "    'grid.linestyle' : 'dotted',\n",
    "    'axes.spines.left'   : False,   \n",
    "    'axes.spines.bottom' : False,\n",
    "    'axes.spines.top'    : False,\n",
    "    'axes.spines.right' : False,\n",
    "    'axes.prop_cycle': cycler('color', ['#e81c61', '#ffb845', '#fc6b4a', '#f9f871', '#31517a', '#3f0092']),\n",
    "    'xtick.bottom'  : False,\n",
    "    'ytick.left': False,\n",
    "    'figure.titlesize' : 'large', \n",
    "    'figure.titleweight' : 'bold',\n",
    "    'figure.facecolor' : '#ffffff',\n",
    "    'text.color' : '#595959',\n",
    "    'axes.labelcolor' : '#595959',\n",
    "    'xtick.color' : '#595959',\n",
    "    'ytick.color' : '#595959',\n",
    "    'legend.loc' : 'best',\n",
    "    'legend.fancybox'    : True,\n",
    "    'legend.frameon'     : True,\n",
    "    'legend.edgecolor'     : '0.9',\n",
    "    'legend.markerscale'   : '0.5',\n",
    "    'lines.marker'      : None,\n",
    "    'lines.markersize'  : 3,           \n",
    "})"
   ]
  },
  {
   "cell_type": "code",
   "execution_count": 5,
   "metadata": {},
   "outputs": [],
   "source": [
    "df = pd.read_csv('alphabay.csv', encoding = \"utf-8\")"
   ]
  },
  {
   "cell_type": "code",
   "execution_count": 6,
   "metadata": {},
   "outputs": [
    {
     "data": {
      "text/plain": [
       "Date                        object \n",
       "Cannabis                    float64\n",
       "Average Cannabis            float64\n",
       "Cumulative Cannabis         float64\n",
       "Ecstasy                     float64\n",
       "Average Ecstasy             float64\n",
       "Cumulative Ecstasy          float64\n",
       "Stimulants                  float64\n",
       "Average Stimulants          float64\n",
       "Cumulative Stimulants       float64\n",
       "Misc                        float64\n",
       "Average Misc                float64\n",
       "Cumulative Misc             float64\n",
       "Psychedelics                float64\n",
       "Average Psychedelics        float64\n",
       "Cumulative Psychedelics     float64\n",
       "Benzos                      float64\n",
       "Average Benzos              float64\n",
       "Cumulative Benzos           float64\n",
       "Opioids                     float64\n",
       "Average Opioids             float64\n",
       "Cumulative Opioids          float64\n",
       "Dissociatives               float64\n",
       "Average Dissociatives       float64\n",
       "Cumulative Dissociatives    float64\n",
       "Digital Goods               float64\n",
       "Average Digital Goods       float64\n",
       "Cumulative Digital Goods    float64\n",
       "Prescription                float64\n",
       "Average Prescription        float64\n",
       "Cumulative Prescription     float64\n",
       "Other                       float64\n",
       "Average Other               float64\n",
       "Cumulative Other            float64\n",
       "dtype: object"
      ]
     },
     "execution_count": 6,
     "metadata": {},
     "output_type": "execute_result"
    }
   ],
   "source": [
    "df.dtypes"
   ]
  },
  {
   "cell_type": "code",
   "execution_count": 7,
   "metadata": {},
   "outputs": [
    {
     "data": {
      "text/html": [
       "<div>\n",
       "<style scoped>\n",
       "    .dataframe tbody tr th:only-of-type {\n",
       "        vertical-align: middle;\n",
       "    }\n",
       "\n",
       "    .dataframe tbody tr th {\n",
       "        vertical-align: top;\n",
       "    }\n",
       "\n",
       "    .dataframe thead th {\n",
       "        text-align: right;\n",
       "    }\n",
       "</style>\n",
       "<table border=\"1\" class=\"dataframe\">\n",
       "  <thead>\n",
       "    <tr style=\"text-align: right;\">\n",
       "      <th></th>\n",
       "      <th>Date</th>\n",
       "      <th>Cannabis</th>\n",
       "      <th>Average Cannabis</th>\n",
       "      <th>Cumulative Cannabis</th>\n",
       "      <th>Ecstasy</th>\n",
       "      <th>Average Ecstasy</th>\n",
       "      <th>Cumulative Ecstasy</th>\n",
       "      <th>Stimulants</th>\n",
       "      <th>Average Stimulants</th>\n",
       "      <th>Cumulative Stimulants</th>\n",
       "      <th>Misc</th>\n",
       "      <th>Average Misc</th>\n",
       "      <th>Cumulative Misc</th>\n",
       "      <th>Psychedelics</th>\n",
       "      <th>Average Psychedelics</th>\n",
       "      <th>Cumulative Psychedelics</th>\n",
       "      <th>Benzos</th>\n",
       "      <th>Average Benzos</th>\n",
       "      <th>Cumulative Benzos</th>\n",
       "      <th>Opioids</th>\n",
       "      <th>Average Opioids</th>\n",
       "      <th>Cumulative Opioids</th>\n",
       "      <th>Dissociatives</th>\n",
       "      <th>Average Dissociatives</th>\n",
       "      <th>Cumulative Dissociatives</th>\n",
       "      <th>Digital Goods</th>\n",
       "      <th>Average Digital Goods</th>\n",
       "      <th>Cumulative Digital Goods</th>\n",
       "      <th>Prescription</th>\n",
       "      <th>Average Prescription</th>\n",
       "      <th>Cumulative Prescription</th>\n",
       "      <th>Other</th>\n",
       "      <th>Average Other</th>\n",
       "      <th>Cumulative Other</th>\n",
       "    </tr>\n",
       "  </thead>\n",
       "  <tbody>\n",
       "    <tr>\n",
       "      <th>879</th>\n",
       "      <td>2017-05-22</td>\n",
       "      <td>166275.96</td>\n",
       "      <td>101070.35</td>\n",
       "      <td>72335795.39</td>\n",
       "      <td>75121.49</td>\n",
       "      <td>43010.17</td>\n",
       "      <td>24226252.11</td>\n",
       "      <td>107545.74</td>\n",
       "      <td>77911.74</td>\n",
       "      <td>49852518.93</td>\n",
       "      <td>12727.95</td>\n",
       "      <td>9627.29</td>\n",
       "      <td>2094520.37</td>\n",
       "      <td>21673.63</td>\n",
       "      <td>13071.33</td>\n",
       "      <td>11195475.24</td>\n",
       "      <td>50762.33</td>\n",
       "      <td>34527.32</td>\n",
       "      <td>18304591.45</td>\n",
       "      <td>41583.63</td>\n",
       "      <td>30915.25</td>\n",
       "      <td>19524229.50</td>\n",
       "      <td>12490.27</td>\n",
       "      <td>10167.68</td>\n",
       "      <td>5007268.81</td>\n",
       "      <td>27130.67</td>\n",
       "      <td>16041.97</td>\n",
       "      <td>11582237.37</td>\n",
       "      <td>13291.89</td>\n",
       "      <td>7311.59</td>\n",
       "      <td>4949890.71</td>\n",
       "      <td>15847.28</td>\n",
       "      <td>5872.66</td>\n",
       "      <td>3725865.90</td>\n",
       "    </tr>\n",
       "    <tr>\n",
       "      <th>880</th>\n",
       "      <td>2017-05-23</td>\n",
       "      <td>120220.66</td>\n",
       "      <td>83023.09</td>\n",
       "      <td>72456016.05</td>\n",
       "      <td>56616.82</td>\n",
       "      <td>37380.53</td>\n",
       "      <td>24282868.93</td>\n",
       "      <td>92077.86</td>\n",
       "      <td>66742.95</td>\n",
       "      <td>49944596.79</td>\n",
       "      <td>33408.09</td>\n",
       "      <td>9143.57</td>\n",
       "      <td>2127928.46</td>\n",
       "      <td>16045.80</td>\n",
       "      <td>11105.32</td>\n",
       "      <td>11211521.04</td>\n",
       "      <td>44927.68</td>\n",
       "      <td>29919.51</td>\n",
       "      <td>18349519.13</td>\n",
       "      <td>37445.48</td>\n",
       "      <td>24312.65</td>\n",
       "      <td>19561674.98</td>\n",
       "      <td>26128.78</td>\n",
       "      <td>8681.14</td>\n",
       "      <td>5033397.59</td>\n",
       "      <td>16897.26</td>\n",
       "      <td>12887.85</td>\n",
       "      <td>11599134.63</td>\n",
       "      <td>6775.55</td>\n",
       "      <td>6239.88</td>\n",
       "      <td>4956666.26</td>\n",
       "      <td>6982.60</td>\n",
       "      <td>5250.66</td>\n",
       "      <td>3732848.50</td>\n",
       "    </tr>\n",
       "    <tr>\n",
       "      <th>881</th>\n",
       "      <td>2017-05-24</td>\n",
       "      <td>78385.39</td>\n",
       "      <td>71176.41</td>\n",
       "      <td>72534401.44</td>\n",
       "      <td>52741.76</td>\n",
       "      <td>32239.23</td>\n",
       "      <td>24335610.69</td>\n",
       "      <td>86728.41</td>\n",
       "      <td>57254.67</td>\n",
       "      <td>50031325.20</td>\n",
       "      <td>1462.84</td>\n",
       "      <td>8927.10</td>\n",
       "      <td>2129391.30</td>\n",
       "      <td>11759.30</td>\n",
       "      <td>9351.65</td>\n",
       "      <td>11223280.34</td>\n",
       "      <td>31103.46</td>\n",
       "      <td>24911.74</td>\n",
       "      <td>18380622.59</td>\n",
       "      <td>20827.74</td>\n",
       "      <td>20958.86</td>\n",
       "      <td>19582502.72</td>\n",
       "      <td>4489.35</td>\n",
       "      <td>7808.14</td>\n",
       "      <td>5037886.94</td>\n",
       "      <td>10726.05</td>\n",
       "      <td>10922.58</td>\n",
       "      <td>11609860.68</td>\n",
       "      <td>4372.00</td>\n",
       "      <td>4741.92</td>\n",
       "      <td>4961038.26</td>\n",
       "      <td>2802.70</td>\n",
       "      <td>4542.39</td>\n",
       "      <td>3735651.20</td>\n",
       "    </tr>\n",
       "    <tr>\n",
       "      <th>882</th>\n",
       "      <td>2017-05-25</td>\n",
       "      <td>11731.57</td>\n",
       "      <td>53801.94</td>\n",
       "      <td>72546133.01</td>\n",
       "      <td>5679.36</td>\n",
       "      <td>27165.63</td>\n",
       "      <td>24341290.05</td>\n",
       "      <td>6801.25</td>\n",
       "      <td>41927.43</td>\n",
       "      <td>50038126.45</td>\n",
       "      <td>1725.10</td>\n",
       "      <td>7051.28</td>\n",
       "      <td>2131116.40</td>\n",
       "      <td>677.55</td>\n",
       "      <td>7165.18</td>\n",
       "      <td>11223957.89</td>\n",
       "      <td>4618.94</td>\n",
       "      <td>18773.20</td>\n",
       "      <td>18385241.53</td>\n",
       "      <td>4217.49</td>\n",
       "      <td>14867.76</td>\n",
       "      <td>19586720.21</td>\n",
       "      <td>608.93</td>\n",
       "      <td>6245.33</td>\n",
       "      <td>5038495.87</td>\n",
       "      <td>3046.73</td>\n",
       "      <td>8364.39</td>\n",
       "      <td>11612907.41</td>\n",
       "      <td>610.37</td>\n",
       "      <td>3578.54</td>\n",
       "      <td>4961648.63</td>\n",
       "      <td>1091.83</td>\n",
       "      <td>3817.77</td>\n",
       "      <td>3736743.03</td>\n",
       "    </tr>\n",
       "    <tr>\n",
       "      <th>883</th>\n",
       "      <td>2017-05-26</td>\n",
       "      <td>0.00</td>\n",
       "      <td>30048.23</td>\n",
       "      <td>72546133.01</td>\n",
       "      <td>0.00</td>\n",
       "      <td>16433.99</td>\n",
       "      <td>24341290.05</td>\n",
       "      <td>338.75</td>\n",
       "      <td>26563.75</td>\n",
       "      <td>50038465.20</td>\n",
       "      <td>34.95</td>\n",
       "      <td>5233.00</td>\n",
       "      <td>2131151.35</td>\n",
       "      <td>0.00</td>\n",
       "      <td>4068.95</td>\n",
       "      <td>11223957.89</td>\n",
       "      <td>0.00</td>\n",
       "      <td>11521.44</td>\n",
       "      <td>18385241.53</td>\n",
       "      <td>0.00</td>\n",
       "      <td>8927.24</td>\n",
       "      <td>19586720.21</td>\n",
       "      <td>0.00</td>\n",
       "      <td>4461.01</td>\n",
       "      <td>5038495.87</td>\n",
       "      <td>750.00</td>\n",
       "      <td>4488.58</td>\n",
       "      <td>11613657.41</td>\n",
       "      <td>0.00</td>\n",
       "      <td>1679.70</td>\n",
       "      <td>4961648.63</td>\n",
       "      <td>0.00</td>\n",
       "      <td>1553.88</td>\n",
       "      <td>3736743.03</td>\n",
       "    </tr>\n",
       "  </tbody>\n",
       "</table>\n",
       "</div>"
      ],
      "text/plain": [
       "           Date   Cannabis  Average Cannabis  Cumulative Cannabis   Ecstasy  \\\n",
       "879  2017-05-22  166275.96  101070.35         72335795.39          75121.49   \n",
       "880  2017-05-23  120220.66  83023.09          72456016.05          56616.82   \n",
       "881  2017-05-24  78385.39   71176.41          72534401.44          52741.76   \n",
       "882  2017-05-25  11731.57   53801.94          72546133.01          5679.36    \n",
       "883  2017-05-26  0.00       30048.23          72546133.01          0.00       \n",
       "\n",
       "     Average Ecstasy  Cumulative Ecstasy  Stimulants  Average Stimulants  \\\n",
       "879  43010.17         24226252.11         107545.74   77911.74             \n",
       "880  37380.53         24282868.93         92077.86    66742.95             \n",
       "881  32239.23         24335610.69         86728.41    57254.67             \n",
       "882  27165.63         24341290.05         6801.25     41927.43             \n",
       "883  16433.99         24341290.05         338.75      26563.75             \n",
       "\n",
       "     Cumulative Stimulants      Misc  Average Misc  Cumulative Misc  \\\n",
       "879  49852518.93            12727.95  9627.29       2094520.37        \n",
       "880  49944596.79            33408.09  9143.57       2127928.46        \n",
       "881  50031325.20            1462.84   8927.10       2129391.30        \n",
       "882  50038126.45            1725.10   7051.28       2131116.40        \n",
       "883  50038465.20            34.95     5233.00       2131151.35        \n",
       "\n",
       "     Psychedelics  Average Psychedelics  Cumulative Psychedelics    Benzos  \\\n",
       "879  21673.63      13071.33              11195475.24              50762.33   \n",
       "880  16045.80      11105.32              11211521.04              44927.68   \n",
       "881  11759.30      9351.65               11223280.34              31103.46   \n",
       "882  677.55        7165.18               11223957.89              4618.94    \n",
       "883  0.00          4068.95               11223957.89              0.00       \n",
       "\n",
       "     Average Benzos  Cumulative Benzos   Opioids  Average Opioids  \\\n",
       "879  34527.32        18304591.45        41583.63  30915.25          \n",
       "880  29919.51        18349519.13        37445.48  24312.65          \n",
       "881  24911.74        18380622.59        20827.74  20958.86          \n",
       "882  18773.20        18385241.53        4217.49   14867.76          \n",
       "883  11521.44        18385241.53        0.00      8927.24           \n",
       "\n",
       "     Cumulative Opioids  Dissociatives  Average Dissociatives  \\\n",
       "879  19524229.50         12490.27       10167.68                \n",
       "880  19561674.98         26128.78       8681.14                 \n",
       "881  19582502.72         4489.35        7808.14                 \n",
       "882  19586720.21         608.93         6245.33                 \n",
       "883  19586720.21         0.00           4461.01                 \n",
       "\n",
       "     Cumulative Dissociatives  Digital Goods  Average Digital Goods  \\\n",
       "879  5007268.81                27130.67       16041.97                \n",
       "880  5033397.59                16897.26       12887.85                \n",
       "881  5037886.94                10726.05       10922.58                \n",
       "882  5038495.87                3046.73        8364.39                 \n",
       "883  5038495.87                750.00         4488.58                 \n",
       "\n",
       "     Cumulative Digital Goods  Prescription  Average Prescription  \\\n",
       "879  11582237.37               13291.89      7311.59                \n",
       "880  11599134.63               6775.55       6239.88                \n",
       "881  11609860.68               4372.00       4741.92                \n",
       "882  11612907.41               610.37        3578.54                \n",
       "883  11613657.41               0.00          1679.70                \n",
       "\n",
       "     Cumulative Prescription     Other  Average Other  Cumulative Other  \n",
       "879  4949890.71               15847.28  5872.66        3725865.90        \n",
       "880  4956666.26               6982.60   5250.66        3732848.50        \n",
       "881  4961038.26               2802.70   4542.39        3735651.20        \n",
       "882  4961648.63               1091.83   3817.77        3736743.03        \n",
       "883  4961648.63               0.00      1553.88        3736743.03        "
      ]
     },
     "execution_count": 7,
     "metadata": {},
     "output_type": "execute_result"
    }
   ],
   "source": [
    "df.tail()"
   ]
  },
  {
   "cell_type": "code",
   "execution_count": 8,
   "metadata": {},
   "outputs": [],
   "source": [
    "# create a dataframe with all the cumulative sale totals for each drug\n",
    "# take the cumulative # for each drug from the last row of the original df\n",
    "\n",
    "cumulativedrugs = {'Drug': ['Cannabis', 'Ecstasy', 'Stimulants', 'Misc', 'Psychedelics', 'Benzos', 'Opioids', 'Dissociatives', 'Digital Goods', 'Prescription', 'Other'], \n",
    "                   'CumulativeSales': [72546133.01, 24341290.05, 50038465.20, 2131151.35, 11223957.89, 18385241.53, 19586720.21, 5038495.87, 11613657.41, 4961648.63, 3736743.03]}\n",
    "sales_df = pd.DataFrame(data=cumulativedrugs)"
   ]
  },
  {
   "cell_type": "code",
   "execution_count": 9,
   "metadata": {},
   "outputs": [],
   "source": [
    "sales_df.set_index('Drug', inplace=True)"
   ]
  },
  {
   "cell_type": "code",
   "execution_count": 10,
   "metadata": {},
   "outputs": [
    {
     "data": {
      "text/html": [
       "<div>\n",
       "<style scoped>\n",
       "    .dataframe tbody tr th:only-of-type {\n",
       "        vertical-align: middle;\n",
       "    }\n",
       "\n",
       "    .dataframe tbody tr th {\n",
       "        vertical-align: top;\n",
       "    }\n",
       "\n",
       "    .dataframe thead th {\n",
       "        text-align: right;\n",
       "    }\n",
       "</style>\n",
       "<table border=\"1\" class=\"dataframe\">\n",
       "  <thead>\n",
       "    <tr style=\"text-align: right;\">\n",
       "      <th></th>\n",
       "      <th>CumulativeSales</th>\n",
       "    </tr>\n",
       "    <tr>\n",
       "      <th>Drug</th>\n",
       "      <th></th>\n",
       "    </tr>\n",
       "  </thead>\n",
       "  <tbody>\n",
       "    <tr>\n",
       "      <th>Cannabis</th>\n",
       "      <td>72546133.01</td>\n",
       "    </tr>\n",
       "    <tr>\n",
       "      <th>Stimulants</th>\n",
       "      <td>50038465.20</td>\n",
       "    </tr>\n",
       "    <tr>\n",
       "      <th>Ecstasy</th>\n",
       "      <td>24341290.05</td>\n",
       "    </tr>\n",
       "    <tr>\n",
       "      <th>Opioids</th>\n",
       "      <td>19586720.21</td>\n",
       "    </tr>\n",
       "    <tr>\n",
       "      <th>Benzos</th>\n",
       "      <td>18385241.53</td>\n",
       "    </tr>\n",
       "    <tr>\n",
       "      <th>Digital Goods</th>\n",
       "      <td>11613657.41</td>\n",
       "    </tr>\n",
       "    <tr>\n",
       "      <th>Psychedelics</th>\n",
       "      <td>11223957.89</td>\n",
       "    </tr>\n",
       "    <tr>\n",
       "      <th>Dissociatives</th>\n",
       "      <td>5038495.87</td>\n",
       "    </tr>\n",
       "    <tr>\n",
       "      <th>Prescription</th>\n",
       "      <td>4961648.63</td>\n",
       "    </tr>\n",
       "    <tr>\n",
       "      <th>Other</th>\n",
       "      <td>3736743.03</td>\n",
       "    </tr>\n",
       "    <tr>\n",
       "      <th>Misc</th>\n",
       "      <td>2131151.35</td>\n",
       "    </tr>\n",
       "  </tbody>\n",
       "</table>\n",
       "</div>"
      ],
      "text/plain": [
       "               CumulativeSales\n",
       "Drug                          \n",
       "Cannabis       72546133.01    \n",
       "Stimulants     50038465.20    \n",
       "Ecstasy        24341290.05    \n",
       "Opioids        19586720.21    \n",
       "Benzos         18385241.53    \n",
       "Digital Goods  11613657.41    \n",
       "Psychedelics   11223957.89    \n",
       "Dissociatives  5038495.87     \n",
       "Prescription   4961648.63     \n",
       "Other          3736743.03     \n",
       "Misc           2131151.35     "
      ]
     },
     "execution_count": 10,
     "metadata": {},
     "output_type": "execute_result"
    }
   ],
   "source": [
    "sales_df_sorted = sales_df.sort_values(by='CumulativeSales', ascending=False)\n",
    "sales_df_sorted"
   ]
  },
  {
   "cell_type": "code",
   "execution_count": 11,
   "metadata": {},
   "outputs": [
    {
     "data": {
      "text/plain": [
       "223603504.18"
      ]
     },
     "execution_count": 11,
     "metadata": {},
     "output_type": "execute_result"
    }
   ],
   "source": [
    "sum(sales_df.CumulativeSales)"
   ]
  },
  {
   "cell_type": "code",
   "execution_count": 12,
   "metadata": {},
   "outputs": [
    {
     "data": {
      "image/png": "[encoded data removed]",
      "text/plain": [
       "<Figure size 1000x1000 with 1 Axes>"
      ]
     },
     "metadata": {},
     "output_type": "display_data"
    }
   ],
   "source": [
    "ax = sales_df.plot(y='CumulativeSales', kind='pie', figsize=(10,10))\n",
    "centercircle = plt.Circle((0,0),0.5, fc='white')\n",
    "fig = plt.gcf()\n",
    "fig.gca().add_artist(centercircle)\n",
    "plt.savefig(\"alphabay_sales2.pdf\")\n",
    "plt.show()"
   ]
  },
  {
   "cell_type": "code",
   "execution_count": 13,
   "metadata": {},
   "outputs": [
    {
     "data": {
      "image/png": "[encoded data removed]",
      "text/plain": [
       "<Figure size 1000x1000 with 1 Axes>"
      ]
     },
     "metadata": {},
     "output_type": "display_data"
    }
   ],
   "source": [
    "def absolute_value(val):\n",
    "    a  = np.round(val/100.*sales_df.CumulativeSales.sum(), 0)\n",
    "    return a\n",
    "\n",
    "ax = plt.pie(sales_df_sorted.CumulativeSales, labels=sales_df_sorted.index, autopct=absolute_value)\n",
    "fig = plt.gcf()\n",
    "centercircle = plt.Circle((0,0),0.5, fc='white')\n",
    "fig.gca().add_artist(centercircle)\n",
    "fig.set_size_inches(10,10)\n",
    "plt.savefig(\"alphabay_sales.pdf\")\n",
    "plt.show()"
   ]
  },
  {
   "cell_type": "code",
   "execution_count": 15,
   "metadata": {},
   "outputs": [
    {
     "data": {
      "text/html": [
       "<div>\n",
       "<style scoped>\n",
       "    .dataframe tbody tr th:only-of-type {\n",
       "        vertical-align: middle;\n",
       "    }\n",
       "\n",
       "    .dataframe tbody tr th {\n",
       "        vertical-align: top;\n",
       "    }\n",
       "\n",
       "    .dataframe thead th {\n",
       "        text-align: right;\n",
       "    }\n",
       "</style>\n",
       "<table border=\"1\" class=\"dataframe\">\n",
       "  <thead>\n",
       "    <tr style=\"text-align: right;\">\n",
       "      <th></th>\n",
       "      <th>CumulativeSales</th>\n",
       "    </tr>\n",
       "    <tr>\n",
       "      <th>Drug</th>\n",
       "      <th></th>\n",
       "    </tr>\n",
       "  </thead>\n",
       "  <tbody>\n",
       "    <tr>\n",
       "      <th>Cannabis</th>\n",
       "      <td>72546133.01</td>\n",
       "    </tr>\n",
       "    <tr>\n",
       "      <th>Ecstasy</th>\n",
       "      <td>24341290.05</td>\n",
       "    </tr>\n",
       "    <tr>\n",
       "      <th>Stimulants</th>\n",
       "      <td>50038465.20</td>\n",
       "    </tr>\n",
       "    <tr>\n",
       "      <th>Misc</th>\n",
       "      <td>2131151.35</td>\n",
       "    </tr>\n",
       "    <tr>\n",
       "      <th>Psychedelics</th>\n",
       "      <td>11223957.89</td>\n",
       "    </tr>\n",
       "    <tr>\n",
       "      <th>Benzos</th>\n",
       "      <td>18385241.53</td>\n",
       "    </tr>\n",
       "    <tr>\n",
       "      <th>Opioids</th>\n",
       "      <td>19586720.21</td>\n",
       "    </tr>\n",
       "    <tr>\n",
       "      <th>Dissociatives</th>\n",
       "      <td>5038495.87</td>\n",
       "    </tr>\n",
       "    <tr>\n",
       "      <th>Digital Goods</th>\n",
       "      <td>11613657.41</td>\n",
       "    </tr>\n",
       "    <tr>\n",
       "      <th>Prescription</th>\n",
       "      <td>4961648.63</td>\n",
       "    </tr>\n",
       "    <tr>\n",
       "      <th>Other</th>\n",
       "      <td>3736743.03</td>\n",
       "    </tr>\n",
       "  </tbody>\n",
       "</table>\n",
       "</div>"
      ],
      "text/plain": [
       "               CumulativeSales\n",
       "Drug                          \n",
       "Cannabis       72546133.01    \n",
       "Ecstasy        24341290.05    \n",
       "Stimulants     50038465.20    \n",
       "Misc           2131151.35     \n",
       "Psychedelics   11223957.89    \n",
       "Benzos         18385241.53    \n",
       "Opioids        19586720.21    \n",
       "Dissociatives  5038495.87     \n",
       "Digital Goods  11613657.41    \n",
       "Prescription   4961648.63     \n",
       "Other          3736743.03     "
      ]
     },
     "execution_count": 15,
     "metadata": {},
     "output_type": "execute_result"
    }
   ],
   "source": [
    "sales_df"
   ]
  },
  {
   "cell_type": "code",
   "execution_count": 16,
   "metadata": {},
   "outputs": [
    {
     "data": {
      "text/plain": [
       "206121952.39"
      ]
     },
     "execution_count": 16,
     "metadata": {},
     "output_type": "execute_result"
    }
   ],
   "source": [
    "# Alphabay drug sales\n",
    "72546133.01 + 24341290.05 + 50038465.20 + 11223957.89 + 18385241.53 + 19586720.21 + 5038495.87 + 4961648.63"
   ]
  },
  {
   "cell_type": "code",
   "execution_count": 17,
   "metadata": {},
   "outputs": [
    {
     "data": {
      "text/plain": [
       "329420461.05"
      ]
     },
     "execution_count": 17,
     "metadata": {},
     "output_type": "execute_result"
    }
   ],
   "source": [
    "# all 3 market (alphabay, evolution, silk road 2) drug sales\n",
    "206121952.39+ 37341609.300000004 + 85956899.36"
   ]
  },
  {
   "cell_type": "code",
   "execution_count": 18,
   "metadata": {},
   "outputs": [
    {
     "data": {
      "text/plain": [
       "105802431.26"
      ]
     },
     "execution_count": 18,
     "metadata": {},
     "output_type": "execute_result"
    }
   ],
   "source": [
    "# all 3 market cannabis\n",
    "72546133.01 + 11841017.14 + 21415281.11"
   ]
  },
  {
   "cell_type": "code",
   "execution_count": 19,
   "metadata": {},
   "outputs": [
    {
     "data": {
      "text/plain": [
       "55432489.11"
      ]
     },
     "execution_count": 19,
     "metadata": {},
     "output_type": "execute_result"
    }
   ],
   "source": [
    "# all 3 markets Ecstasy\n",
    "24341290.05 + 7749858.20 + 23341340.86"
   ]
  },
  {
   "cell_type": "code",
   "execution_count": 20,
   "metadata": {},
   "outputs": [
    {
     "data": {
      "text/plain": [
       "83082458.10000001"
      ]
     },
     "execution_count": 20,
     "metadata": {},
     "output_type": "execute_result"
    }
   ],
   "source": [
    "# all 3 markets Stimulants\n",
    "50038465.20 + 10334324.74 + 22709668.16"
   ]
  },
  {
   "cell_type": "code",
   "execution_count": 21,
   "metadata": {},
   "outputs": [
    {
     "data": {
      "text/plain": [
       "27488383.42"
      ]
     },
     "execution_count": 21,
     "metadata": {},
     "output_type": "execute_result"
    }
   ],
   "source": [
    "# all 3 markets Opioids\n",
    "19586720.21 + 3511100.03 + 4390563.18"
   ]
  },
  {
   "cell_type": "code",
   "execution_count": 22,
   "metadata": {},
   "outputs": [
    {
     "data": {
      "text/plain": [
       "23358944.88"
      ]
     },
     "execution_count": 22,
     "metadata": {},
     "output_type": "execute_result"
    }
   ],
   "source": [
    "# all 3 markets benzos\n",
    "18385241.53 + 1280220.70 + 3693482.65"
   ]
  },
  {
   "cell_type": "code",
   "execution_count": 23,
   "metadata": {},
   "outputs": [
    {
     "data": {
      "text/plain": [
       "19639331.98"
      ]
     },
     "execution_count": 23,
     "metadata": {},
     "output_type": "execute_result"
    }
   ],
   "source": [
    "# all 3 markets psychedelics\n",
    "11223957.89 + 1605515.87 + 6809858.22"
   ]
  },
  {
   "cell_type": "code",
   "execution_count": 24,
   "metadata": {},
   "outputs": [
    {
     "data": {
      "text/plain": [
       "7794089.91"
      ]
     },
     "execution_count": 24,
     "metadata": {},
     "output_type": "execute_result"
    }
   ],
   "source": [
    "# all 3 markets dissociatives\n",
    "5038495.87 + 492324.35 + 2263269.69"
   ]
  },
  {
   "cell_type": "code",
   "execution_count": 25,
   "metadata": {},
   "outputs": [
    {
     "data": {
      "text/plain": [
       "6822332.390000001"
      ]
     },
     "execution_count": 25,
     "metadata": {},
     "output_type": "execute_result"
    }
   ],
   "source": [
    "# all 3 markets prescription\n",
    "4961648.63 + 527248.27 + 1333435.49"
   ]
  },
  {
   "cell_type": "code",
   "execution_count": 26,
   "metadata": {},
   "outputs": [
    {
     "data": {
      "text/plain": [
       "20638634.240000002"
      ]
     },
     "execution_count": 26,
     "metadata": {},
     "output_type": "execute_result"
    }
   ],
   "source": [
    "# all 3 markets digital goods\n",
    "11613657.41 + 5330729.00 + 3694247.83"
   ]
  },
  {
   "cell_type": "code",
   "execution_count": 27,
   "metadata": {},
   "outputs": [
    {
     "data": {
      "text/plain": [
       "3699420.9800000004"
      ]
     },
     "execution_count": 27,
     "metadata": {},
     "output_type": "execute_result"
    }
   ],
   "source": [
    "# all 3 markets misc\n",
    "2131151.35 + 802330.14 + 765939.49"
   ]
  },
  {
   "cell_type": "code",
   "execution_count": 28,
   "metadata": {},
   "outputs": [
    {
     "data": {
      "text/plain": [
       "5883007.26"
      ]
     },
     "execution_count": 28,
     "metadata": {},
     "output_type": "execute_result"
    }
   ],
   "source": [
    "# all 3 markets other\n",
    "3736743.03 + 519358.19 + 1626906.04"
   ]
  },
  {
   "cell_type": "code",
   "execution_count": 29,
   "metadata": {},
   "outputs": [
    {
     "data": {
      "text/plain": [
       "30221062.480000004"
      ]
     },
     "execution_count": 29,
     "metadata": {},
     "output_type": "execute_result"
    }
   ],
   "source": [
    "# non-drug total for all 3 markets\n",
    "20638634.240000002 + 3699420.9800000004 + 5883007.26"
   ]
  },
  {
   "cell_type": "code",
   "execution_count": null,
   "metadata": {},
   "outputs": [],
   "source": []
  }
 ],
 "metadata": {
  "kernelspec": {
   "display_name": "Python 3",
   "language": "python",
   "name": "python3"
  }
 },
 "nbformat": 4,
 "nbformat_minor": 2
}
