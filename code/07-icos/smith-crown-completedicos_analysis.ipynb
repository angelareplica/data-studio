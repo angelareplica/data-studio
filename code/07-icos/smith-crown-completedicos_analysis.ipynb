{
 "cells": [
  {
   "cell_type": "code",
   "execution_count": 2,
   "metadata": {},
   "outputs": [],
   "source": [
    "import pandas as pd\n",
    "import re\n",
    "import glob\n",
    "import matplotlib.pyplot as plt\n",
    "from cycler import cycler\n",
    "from pywaffle import Waffle\n",
    "import numpy as np\n",
    "%matplotlib inline "
   ]
  },
  {
   "cell_type": "code",
   "execution_count": 3,
   "metadata": {},
   "outputs": [],
   "source": [
    "plt.rcdefaults()\n",
    "plt.rcParams.update({\n",
    "    'pdf.fonttype': 42,\n",
    "    'ps.fonttype': 42,\n",
    "    'font.family': 'sans-serif',\n",
    "    'font.sans-serif' : 'Tahoma',\n",
    "    'axes.facecolor' : '#ffffff',\n",
    "    'axes.axisbelow':True, \n",
    "    'axes.grid' : True,\n",
    "    'grid.color' : '#bec0c2',\n",
    "    'grid.linestyle' : 'dotted',\n",
    "    'axes.spines.left'   : False,   \n",
    "    'axes.spines.bottom' : False,\n",
    "    'axes.spines.top'    : False,\n",
    "    'axes.spines.right' : False,\n",
    "    'axes.prop_cycle': cycler('color', ['#e81c61', '#ffb845', '#fc6b4a', '#f9f871', '#31517a', '#3f0092']),\n",
    "    'xtick.bottom'  : False,\n",
    "    'ytick.left': False,\n",
    "    'figure.titlesize' : 'large', \n",
    "    'figure.titleweight' : 'bold',\n",
    "    'figure.facecolor' : '#ffffff',\n",
    "    'text.color' : '#595959',\n",
    "    'axes.labelcolor' : '#595959',\n",
    "    'xtick.color' : '#595959',\n",
    "    'ytick.color' : '#595959',\n",
    "    'legend.loc' : 'best',\n",
    "    'legend.fancybox'    : True,\n",
    "    'legend.frameon'     : True,\n",
    "    'legend.edgecolor'     : '0.9',\n",
    "    'legend.markerscale'   : '0.5',\n",
    "    'lines.marker'      : None,\n",
    "    'lines.markersize'  : 3,           \n",
    "})"
   ]
  },
  {
   "cell_type": "code",
   "execution_count": 4,
   "metadata": {},
   "outputs": [],
   "source": [
    "pd.set_option('display.max_columns', None)\n",
    "pd.set_option('display.max_colwidth', -1)\n",
    "pd.set_option('display.max_rows', 1000)"
   ]
  },
  {
   "cell_type": "code",
   "execution_count": 5,
   "metadata": {},
   "outputs": [
    {
     "data": {
      "text/html": [
       "<div>\n",
       "<style scoped>\n",
       "    .dataframe tbody tr th:only-of-type {\n",
       "        vertical-align: middle;\n",
       "    }\n",
       "\n",
       "    .dataframe tbody tr th {\n",
       "        vertical-align: top;\n",
       "    }\n",
       "\n",
       "    .dataframe thead th {\n",
       "        text-align: right;\n",
       "    }\n",
       "</style>\n",
       "<table border=\"1\" class=\"dataframe\">\n",
       "  <thead>\n",
       "    <tr style=\"text-align: right;\">\n",
       "      <th></th>\n",
       "      <th>end_date</th>\n",
       "      <th>name</th>\n",
       "      <th>raised</th>\n",
       "      <th>start_date</th>\n",
       "      <th>summary</th>\n",
       "    </tr>\n",
       "  </thead>\n",
       "  <tbody>\n",
       "    <tr>\n",
       "      <th>0</th>\n",
       "      <td>09/30/18</td>\n",
       "      <td>Infinitus Token</td>\n",
       "      <td>NaN</td>\n",
       "      <td>08/18/18</td>\n",
       "      <td>A smart designation repository for lost cryptoasset keys.</td>\n",
       "    </tr>\n",
       "    <tr>\n",
       "      <th>1</th>\n",
       "      <td>09/30/18</td>\n",
       "      <td>SharkGate Token</td>\n",
       "      <td>NaN</td>\n",
       "      <td>08/18/18</td>\n",
       "      <td>A decentralized cyber security platform.</td>\n",
       "    </tr>\n",
       "    <tr>\n",
       "      <th>2</th>\n",
       "      <td>09/30/18</td>\n",
       "      <td>Lancer Network</td>\n",
       "      <td>NaN</td>\n",
       "      <td>08/18/18</td>\n",
       "      <td>A freelancing site for promotion of blockchain crowdsale projects.</td>\n",
       "    </tr>\n",
       "    <tr>\n",
       "      <th>3</th>\n",
       "      <td>09/30/18</td>\n",
       "      <td>MillionCoin</td>\n",
       "      <td>NaN</td>\n",
       "      <td>08/18/18</td>\n",
       "      <td>A cryptoasset exchange and analytics platform.</td>\n",
       "    </tr>\n",
       "    <tr>\n",
       "      <th>4</th>\n",
       "      <td>08/14/18</td>\n",
       "      <td>Hedera Hashgraph</td>\n",
       "      <td>$20,000,000</td>\n",
       "      <td>08/01/18</td>\n",
       "      <td>A smart contract platform based on the hashgraph consensus mechanism, emphasizing scalability and security through an asynchronous Byzantine fault tolerant architecture.</td>\n",
       "    </tr>\n",
       "  </tbody>\n",
       "</table>\n",
       "</div>"
      ],
      "text/plain": [
       "   end_date              name       raised start_date  \\\n",
       "0  09/30/18  Infinitus Token   NaN          08/18/18    \n",
       "1  09/30/18  SharkGate Token   NaN          08/18/18    \n",
       "2  09/30/18  Lancer Network    NaN          08/18/18    \n",
       "3  09/30/18  MillionCoin       NaN          08/18/18    \n",
       "4  08/14/18  Hedera Hashgraph  $20,000,000  08/01/18    \n",
       "\n",
       "                                                                                                                                                                     summary  \n",
       "0  A smart designation repository for lost cryptoasset keys.                                                                                                                  \n",
       "1  A decentralized cyber security platform.                                                                                                                                   \n",
       "2  A freelancing site for promotion of blockchain crowdsale projects.                                                                                                         \n",
       "3  A cryptoasset exchange and analytics platform.                                                                                                                             \n",
       "4  A smart contract platform based on the hashgraph consensus mechanism, emphasizing scalability and security through an asynchronous Byzantine fault tolerant architecture.  "
      ]
     },
     "execution_count": 5,
     "metadata": {},
     "output_type": "execute_result"
    }
   ],
   "source": [
    "df = pd.read_csv('smith_crown_scraped_8_18_2018.csv')\n",
    "df.head()"
   ]
  },
  {
   "cell_type": "code",
   "execution_count": 6,
   "metadata": {},
   "outputs": [
    {
     "data": {
      "text/plain": [
       "end_date      object\n",
       "name          object\n",
       "raised        object\n",
       "start_date    object\n",
       "summary       object\n",
       "dtype: object"
      ]
     },
     "execution_count": 6,
     "metadata": {},
     "output_type": "execute_result"
    }
   ],
   "source": [
    "# df.shape (127, 5)\n",
    "df.dtypes"
   ]
  },
  {
   "cell_type": "code",
   "execution_count": 7,
   "metadata": {},
   "outputs": [],
   "source": [
    "df['raised_float'] = df.raised.replace('\\D', '', regex=True).astype(float)"
   ]
  },
  {
   "cell_type": "code",
   "execution_count": 8,
   "metadata": {},
   "outputs": [
    {
     "data": {
      "text/plain": [
       "2697479931.0"
      ]
     },
     "execution_count": 8,
     "metadata": {},
     "output_type": "execute_result"
    }
   ],
   "source": [
    "df.raised_float.sum()\n",
    "# $2.7 billion has been raised in completed ICOs (curated by Smith + Crown)"
   ]
  },
  {
   "cell_type": "code",
   "execution_count": 11,
   "metadata": {},
   "outputs": [],
   "source": [
    "#09/30/18\n",
    "df['start_date_dt'] = pd.to_datetime(df.start_date, format=\"%m/%d/%y\")\n",
    "df['end_date_dt'] = pd.to_datetime(df.end_date, format=\"%m/%d/%y\")"
   ]
  },
  {
   "cell_type": "code",
   "execution_count": 13,
   "metadata": {},
   "outputs": [
    {
     "data": {
      "text/html": [
       "<div>\n",
       "<style scoped>\n",
       "    .dataframe tbody tr th:only-of-type {\n",
       "        vertical-align: middle;\n",
       "    }\n",
       "\n",
       "    .dataframe tbody tr th {\n",
       "        vertical-align: top;\n",
       "    }\n",
       "\n",
       "    .dataframe thead th {\n",
       "        text-align: right;\n",
       "    }\n",
       "</style>\n",
       "<table border=\"1\" class=\"dataframe\">\n",
       "  <thead>\n",
       "    <tr style=\"text-align: right;\">\n",
       "      <th></th>\n",
       "      <th>end_date</th>\n",
       "      <th>name</th>\n",
       "      <th>raised</th>\n",
       "      <th>start_date</th>\n",
       "      <th>summary</th>\n",
       "      <th>raised_float</th>\n",
       "      <th>end_date_dt</th>\n",
       "      <th>start_date_dt</th>\n",
       "    </tr>\n",
       "  </thead>\n",
       "  <tbody>\n",
       "    <tr>\n",
       "      <th>0</th>\n",
       "      <td>09/30/18</td>\n",
       "      <td>Infinitus Token</td>\n",
       "      <td>NaN</td>\n",
       "      <td>08/18/18</td>\n",
       "      <td>A smart designation repository for lost cryptoasset keys.</td>\n",
       "      <td>NaN</td>\n",
       "      <td>2018-09-30</td>\n",
       "      <td>2018-08-18</td>\n",
       "    </tr>\n",
       "    <tr>\n",
       "      <th>1</th>\n",
       "      <td>09/30/18</td>\n",
       "      <td>SharkGate Token</td>\n",
       "      <td>NaN</td>\n",
       "      <td>08/18/18</td>\n",
       "      <td>A decentralized cyber security platform.</td>\n",
       "      <td>NaN</td>\n",
       "      <td>2018-09-30</td>\n",
       "      <td>2018-08-18</td>\n",
       "    </tr>\n",
       "    <tr>\n",
       "      <th>2</th>\n",
       "      <td>09/30/18</td>\n",
       "      <td>Lancer Network</td>\n",
       "      <td>NaN</td>\n",
       "      <td>08/18/18</td>\n",
       "      <td>A freelancing site for promotion of blockchain crowdsale projects.</td>\n",
       "      <td>NaN</td>\n",
       "      <td>2018-09-30</td>\n",
       "      <td>2018-08-18</td>\n",
       "    </tr>\n",
       "    <tr>\n",
       "      <th>3</th>\n",
       "      <td>09/30/18</td>\n",
       "      <td>MillionCoin</td>\n",
       "      <td>NaN</td>\n",
       "      <td>08/18/18</td>\n",
       "      <td>A cryptoasset exchange and analytics platform.</td>\n",
       "      <td>NaN</td>\n",
       "      <td>2018-09-30</td>\n",
       "      <td>2018-08-18</td>\n",
       "    </tr>\n",
       "    <tr>\n",
       "      <th>4</th>\n",
       "      <td>08/14/18</td>\n",
       "      <td>Hedera Hashgraph</td>\n",
       "      <td>$20,000,000</td>\n",
       "      <td>08/01/18</td>\n",
       "      <td>A smart contract platform based on the hashgraph consensus mechanism, emphasizing scalability and security through an asynchronous Byzantine fault tolerant architecture.</td>\n",
       "      <td>20000000.0</td>\n",
       "      <td>2018-08-14</td>\n",
       "      <td>2018-08-01</td>\n",
       "    </tr>\n",
       "  </tbody>\n",
       "</table>\n",
       "</div>"
      ],
      "text/plain": [
       "   end_date              name       raised start_date  \\\n",
       "0  09/30/18  Infinitus Token   NaN          08/18/18    \n",
       "1  09/30/18  SharkGate Token   NaN          08/18/18    \n",
       "2  09/30/18  Lancer Network    NaN          08/18/18    \n",
       "3  09/30/18  MillionCoin       NaN          08/18/18    \n",
       "4  08/14/18  Hedera Hashgraph  $20,000,000  08/01/18    \n",
       "\n",
       "                                                                                                                                                                     summary  \\\n",
       "0  A smart designation repository for lost cryptoasset keys.                                                                                                                   \n",
       "1  A decentralized cyber security platform.                                                                                                                                    \n",
       "2  A freelancing site for promotion of blockchain crowdsale projects.                                                                                                          \n",
       "3  A cryptoasset exchange and analytics platform.                                                                                                                              \n",
       "4  A smart contract platform based on the hashgraph consensus mechanism, emphasizing scalability and security through an asynchronous Byzantine fault tolerant architecture.   \n",
       "\n",
       "   raised_float end_date_dt start_date_dt  \n",
       "0 NaN           2018-09-30  2018-08-18     \n",
       "1 NaN           2018-09-30  2018-08-18     \n",
       "2 NaN           2018-09-30  2018-08-18     \n",
       "3 NaN           2018-09-30  2018-08-18     \n",
       "4  20000000.0   2018-08-14  2018-08-01     "
      ]
     },
     "execution_count": 13,
     "metadata": {},
     "output_type": "execute_result"
    }
   ],
   "source": [
    "df.head()"
   ]
  },
  {
   "cell_type": "code",
   "execution_count": 15,
   "metadata": {},
   "outputs": [],
   "source": [
    "df_end_2018 = df[df.end_date_dt >= '2018-01-01']"
   ]
  },
  {
   "cell_type": "code",
   "execution_count": 25,
   "metadata": {},
   "outputs": [],
   "source": [
    "df_end_2017 = df[(df.end_date_dt >= '2017-01-01') & (df.end_date_dt <= '2017-12-31')]"
   ]
  },
  {
   "cell_type": "code",
   "execution_count": 26,
   "metadata": {
    "scrolled": true
   },
   "outputs": [
    {
     "data": {
      "text/html": [
       "<div>\n",
       "<style scoped>\n",
       "    .dataframe tbody tr th:only-of-type {\n",
       "        vertical-align: middle;\n",
       "    }\n",
       "\n",
       "    .dataframe tbody tr th {\n",
       "        vertical-align: top;\n",
       "    }\n",
       "\n",
       "    .dataframe thead th {\n",
       "        text-align: right;\n",
       "    }\n",
       "</style>\n",
       "<table border=\"1\" class=\"dataframe\">\n",
       "  <thead>\n",
       "    <tr style=\"text-align: right;\">\n",
       "      <th></th>\n",
       "      <th>end_date</th>\n",
       "      <th>name</th>\n",
       "      <th>raised</th>\n",
       "      <th>start_date</th>\n",
       "      <th>summary</th>\n",
       "      <th>raised_float</th>\n",
       "      <th>end_date_dt</th>\n",
       "      <th>start_date_dt</th>\n",
       "    </tr>\n",
       "  </thead>\n",
       "  <tbody>\n",
       "    <tr>\n",
       "      <th>40</th>\n",
       "      <td>12/20/17</td>\n",
       "      <td>Aelf</td>\n",
       "      <td>$40,000,000</td>\n",
       "      <td>11/28/17</td>\n",
       "      <td>A DPoS smart contract platform offering interoperability and data storage features.</td>\n",
       "      <td>40000000.0</td>\n",
       "      <td>2017-12-20</td>\n",
       "      <td>2017-11-28</td>\n",
       "    </tr>\n",
       "    <tr>\n",
       "      <th>41</th>\n",
       "      <td>12/20/17</td>\n",
       "      <td>Commerceblock</td>\n",
       "      <td>$8,355,121</td>\n",
       "      <td>11/28/17</td>\n",
       "      <td>A technology platform with a combination of trust minimized trade, decentralized contract execution, on-chain derivatives, and asset backed token issuance for public blockchains.</td>\n",
       "      <td>8355121.0</td>\n",
       "      <td>2017-12-20</td>\n",
       "      <td>2017-11-28</td>\n",
       "    </tr>\n",
       "    <tr>\n",
       "      <th>42</th>\n",
       "      <td>12/20/17</td>\n",
       "      <td>Miniapps</td>\n",
       "      <td>$5,300,000</td>\n",
       "      <td>10/18/17</td>\n",
       "      <td>A chatbot platform and smart contract-based app marketplace.</td>\n",
       "      <td>5300000.0</td>\n",
       "      <td>2017-12-20</td>\n",
       "      <td>2017-10-18</td>\n",
       "    </tr>\n",
       "    <tr>\n",
       "      <th>43</th>\n",
       "      <td>12/05/17</td>\n",
       "      <td>Leverj</td>\n",
       "      <td>$15,280,640</td>\n",
       "      <td>11/07/17</td>\n",
       "      <td>A decentralized cryptocurrency futures exchange.</td>\n",
       "      <td>15280640.0</td>\n",
       "      <td>2017-12-05</td>\n",
       "      <td>2017-11-07</td>\n",
       "    </tr>\n",
       "    <tr>\n",
       "      <th>44</th>\n",
       "      <td>12/05/17</td>\n",
       "      <td>WaBi</td>\n",
       "      <td>$11,500,000</td>\n",
       "      <td>11/28/17</td>\n",
       "      <td>A chip-based product verification sticker designed to link physical consumer goods with blockchain identities</td>\n",
       "      <td>11500000.0</td>\n",
       "      <td>2017-12-05</td>\n",
       "      <td>2017-11-28</td>\n",
       "    </tr>\n",
       "  </tbody>\n",
       "</table>\n",
       "</div>"
      ],
      "text/plain": [
       "    end_date           name       raised start_date  \\\n",
       "40  12/20/17  Aelf           $40,000,000  11/28/17    \n",
       "41  12/20/17  Commerceblock  $8,355,121   11/28/17    \n",
       "42  12/20/17  Miniapps       $5,300,000   10/18/17    \n",
       "43  12/05/17  Leverj         $15,280,640  11/07/17    \n",
       "44  12/05/17  WaBi           $11,500,000  11/28/17    \n",
       "\n",
       "                                                                                                                                                                               summary  \\\n",
       "40  A DPoS smart contract platform offering interoperability and data storage features.                                                                                                  \n",
       "41  A technology platform with a combination of trust minimized trade, decentralized contract execution, on-chain derivatives, and asset backed token issuance for public blockchains.   \n",
       "42  A chatbot platform and smart contract-based app marketplace.                                                                                                                         \n",
       "43  A decentralized cryptocurrency futures exchange.                                                                                                                                     \n",
       "44  A chip-based product verification sticker designed to link physical consumer goods with blockchain identities                                                                        \n",
       "\n",
       "    raised_float end_date_dt start_date_dt  \n",
       "40  40000000.0   2017-12-20  2017-11-28     \n",
       "41  8355121.0    2017-12-20  2017-11-28     \n",
       "42  5300000.0    2017-12-20  2017-10-18     \n",
       "43  15280640.0   2017-12-05  2017-11-07     \n",
       "44  11500000.0   2017-12-05  2017-11-28     "
      ]
     },
     "execution_count": 26,
     "metadata": {},
     "output_type": "execute_result"
    }
   ],
   "source": [
    "#df_end_2018.head()\n",
    "df_end_2017.head()"
   ]
  },
  {
   "cell_type": "code",
   "execution_count": 56,
   "metadata": {},
   "outputs": [
    {
     "data": {
      "image/png": "[encoded data removed]",
      "text/plain": [
       "<Figure size 640x480 with 1 Axes>"
      ]
     },
     "metadata": {},
     "output_type": "display_data"
    }
   ],
   "source": [
    "df_end_2018.sort_values(by='raised_float', ascending=False).head().plot(kind='barh', x='name', y='raised_float')\n",
    "plt.show()"
   ]
  },
  {
   "cell_type": "code",
   "execution_count": 43,
   "metadata": {},
   "outputs": [
    {
     "data": {
      "text/html": [
       "<div>\n",
       "<style scoped>\n",
       "    .dataframe tbody tr th:only-of-type {\n",
       "        vertical-align: middle;\n",
       "    }\n",
       "\n",
       "    .dataframe tbody tr th {\n",
       "        vertical-align: top;\n",
       "    }\n",
       "\n",
       "    .dataframe thead th {\n",
       "        text-align: right;\n",
       "    }\n",
       "</style>\n",
       "<table border=\"1\" class=\"dataframe\">\n",
       "  <thead>\n",
       "    <tr style=\"text-align: right;\">\n",
       "      <th></th>\n",
       "      <th>raised_float</th>\n",
       "    </tr>\n",
       "    <tr>\n",
       "      <th>end_date_dt</th>\n",
       "      <th></th>\n",
       "    </tr>\n",
       "  </thead>\n",
       "  <tbody>\n",
       "    <tr>\n",
       "      <th>2016-12-31</th>\n",
       "      <td>5.773459e+08</td>\n",
       "    </tr>\n",
       "    <tr>\n",
       "      <th>2017-12-31</th>\n",
       "      <td>6.152844e+08</td>\n",
       "    </tr>\n",
       "    <tr>\n",
       "      <th>2018-12-31</th>\n",
       "      <td>1.504850e+09</td>\n",
       "    </tr>\n",
       "  </tbody>\n",
       "</table>\n",
       "</div>"
      ],
      "text/plain": [
       "             raised_float\n",
       "end_date_dt              \n",
       "2016-12-31   5.773459e+08\n",
       "2017-12-31   6.152844e+08\n",
       "2018-12-31   1.504850e+09"
      ]
     },
     "execution_count": 43,
     "metadata": {},
     "output_type": "execute_result"
    }
   ],
   "source": [
    "df.resample('A', on='end_date_dt').sum()"
   ]
  },
  {
   "cell_type": "code",
   "execution_count": 42,
   "metadata": {},
   "outputs": [
    {
     "data": {
      "image/png": "[encoded data removed]",
      "text/plain": [
       "<Figure size 640x480 with 1 Axes>"
      ]
     },
     "metadata": {},
     "output_type": "display_data"
    }
   ],
   "source": [
    "df.resample('A', on='end_date_dt').sum().plot(kind='bar')\n",
    "plt.show()"
   ]
  },
  {
   "cell_type": "code",
   "execution_count": 58,
   "metadata": {},
   "outputs": [
    {
     "data": {
      "text/plain": [
       "1504849575.0"
      ]
     },
     "execution_count": 58,
     "metadata": {},
     "output_type": "execute_result"
    }
   ],
   "source": [
    "df_end_2018.raised_float.sum()"
   ]
  },
  {
   "cell_type": "code",
   "execution_count": null,
   "metadata": {},
   "outputs": [],
   "source": []
  }
 ],
 "metadata": {
  "kernelspec": {
   "display_name": "Python 3",
   "language": "python",
   "name": "python3"
  }
 },
 "nbformat": 4,
 "nbformat_minor": 2
}
